{
 "cells": [
  {
   "cell_type": "markdown",
   "id": "a66733a7",
   "metadata": {},
   "source": [
    "# Video Streaming Services"
   ]
  },
  {
   "cell_type": "markdown",
   "id": "941ea67f",
   "metadata": {},
   "source": [
    "## Table Plan"
   ]
  },
  {
   "cell_type": "markdown",
   "id": "8f81ba7c",
   "metadata": {},
   "source": [
    "| **Basic Plan**       | **Standard Plan**                                       | **Premium Plan**                                               | **Services**   |\n",
    "|----------------------|---------------------------------------------------------|----------------------------------------------------------------|----------------|\n",
    "| ✓                    | ✓                                                       | ✓                                                              | can_stream     |\n",
    "| ✓                    | ✓                                                       | ✓                                                              | can_download   |\n",
    "| ✓                    | ✓                                                       | ✓                                                              | has_SD         |\n",
    "|                      | ✓                                                       | ✓                                                              | has_HD         |\n",
    "|                      |                                                         | ✓                                                              | has_UHD        |\n",
    "| 1                    | 2                                                       | 4                                                              | num_of_devices |\n",
    "| 3rd party movie only | Basic Plan Content + Sports  (F1, Football, Basketball) | Basic Plan + Standard Plan +  PacFlix Original Series or Movie | content        |\n",
    "| Rp 120.000,-         | Rp 160.000,-                                            | Rp 200.000,-                                                   | price          |"
   ]
  },
  {
   "cell_type": "markdown",
   "id": "c2d4d173",
   "metadata": {},
   "source": [
    "## Features List required\n",
    "- [ ] `check_benefit()` --> show all benefits\n",
    "- [ ] `check_plan(username)` --> show the benefits you get and how long you have subscribed (done)\n",
    "- [ ] `upgrade_plan(username, current_plan, new_plan)` --> final price, if subscription > 12 months will get 5% discount\n",
    "- [ ] `pick_plan(new_plan, code_referral)` --> for new user, final price if using referral code will get discount 4%"
   ]
  },
  {
   "cell_type": "markdown",
   "id": "919c26f2",
   "metadata": {},
   "source": [
    "- Untuk mempermudah membuat tabel untuk `check_benefit()` kita bisa menggunakan library `tabulate`\n",
    "- [Referensi 1](https://pypi.org/project/tabulate/)\n",
    "- [Referensi 2](https://www.askpython.com/python-modules/tabulate-tables-in-python)"
   ]
  },
  {
   "cell_type": "code",
   "execution_count": 123,
   "id": "7c1dceeb",
   "metadata": {},
   "outputs": [
    {
     "name": "stdout",
     "output_type": "stream",
     "text": [
      "Requirement already satisfied: tabulate in c:\\users\\barad\\appdata\\local\\anaconda3\\envs\\learning\\lib\\site-packages (0.9.0)\n"
     ]
    }
   ],
   "source": [
    "# import library\n",
    "\n",
    "!pip install tabulate\n",
    "from tabulate import tabulate"
   ]
  },
  {
   "cell_type": "markdown",
   "id": "cf5e3ae4",
   "metadata": {},
   "source": [
    "### Create Data"
   ]
  },
  {
   "cell_type": "code",
   "execution_count": 124,
   "id": "fb595804",
   "metadata": {},
   "outputs": [],
   "source": [
    "# Just Run\n",
    "data = {\n",
    "    \"Shandy\": [\"Basic Plan\", 12, \"shandy-2134\"],\n",
    "    \"Cahya\": [\"Standard Plan\", 24, \"cahya-abcd\"],\n",
    "    \"Ana\": [\"Premium Plan\", 5, \"ana-2f9g\"],\n",
    "    \"Bagus\": [\"Basic Plan\", 11, \"bagus-9f92\"]\n",
    "}"
   ]
  },
  {
   "cell_type": "markdown",
   "id": "1d54fc25",
   "metadata": {},
   "source": [
    "#### Create User Class "
   ]
  },
  {
   "cell_type": "code",
   "execution_count": 125,
   "id": "74f1fe36",
   "metadata": {},
   "outputs": [],
   "source": [
    "# create main class\n",
    "class User:\n",
    "    # Initialize User class attributes\n",
    "    def __init__(self, username, duration_plan, current_plan):\n",
    "        self.username = username\n",
    "        self.duration_plan = duration_plan\n",
    "        self.current_plan = current_plan\n",
    "        self.table = [\n",
    "            [True, True, True, \"Bisa Stream\"],\n",
    "            [True, True, True, \"Bisa Download\"],\n",
    "            [True, True, True, \"Kualitas SD\"],\n",
    "            [False, True, True, \"Kualitas HD\"],\n",
    "            [False, False, True, \"Kualitas UHD\"],\n",
    "            [1, 2, 4, \"Number of Devices\"],\n",
    "            [\"3rd party Movie only\", \"Basic Plan Content + Sports\", \"Basic Plan + Standard Plan + PacFlix Original Series\", \"Jenis Konten\"],\n",
    "            [120000, 160000, 200000, \"Harga\"]\n",
    "            ]\n",
    "        self.header = [\"Basic Plan\", \"Standard Plan\", \"Premium Plan\", \"Services\"]\n",
    "\n",
    "    def check_benefit(self):\n",
    "        # Show the benefits of all plans \n",
    "        print(\"\\n\\nPacFlix Plan List \\n\\n\")\n",
    "        print(tabulate(self.table, headers=self.header))\n",
    "\n",
    "    def check_plan(self):\n",
    "        # check if the plan is valid\n",
    "        if self.current_plan not in self.header:\n",
    "            print(\"Current plan is invalid.\")\n",
    "            return\n",
    "        \n",
    "        # Show the plan currently use\n",
    "        print(self.current_plan,\"\\n\")\n",
    "        print(f\"{self.duration_plan} Bulan\\n\\n\")\n",
    "        print(f\"{self.current_plan} PacFlix Benefit List\\n\\n\")\n",
    "\n",
    "        index = self.header.index(self.current_plan)  # Find the index of current_plan\n",
    "        new_header = [self.header[index], self.header[-1]] # create new header\n",
    "        new_table = [[row[index], row[-1]] for row in self.table if len(row) > index] # create new table\n",
    "\n",
    "        print(tabulate(new_table, headers=new_header)) # Show New Table\n",
    "\n",
    "    def upgrade_plan(self, current_plan=None, new_plan=None): # upgrade plan\n",
    "        current_plan = current_plan or self.current_plan\n",
    "        \n",
    "        # Select the correct price from the table\n",
    "        plan_prices = {\"Basic Plan\": self.table[7][0], \n",
    "                    \"Standard Plan\": self.table[7][1], \n",
    "                    \"Premium Plan\": self.table[7][2]}\n",
    "        \n",
    "        # Get the price of the new plan\n",
    "        price = plan_prices.get(new_plan)\n",
    "\n",
    "        if price is None or new_plan not in plan_prices:\n",
    "            print('New plane must be specified and must be valid.')\n",
    "            return\n",
    "        \n",
    "        # Apply discount if duration is greater than 12 months\n",
    "        if self.duration_plan > 12:\n",
    "            price *= 0.95  # Apply a 5% discount (i.e., 95% of the price)\n",
    "        \n",
    "        print(price)\n",
    "\n",
    "    "
   ]
  },
  {
   "cell_type": "markdown",
   "id": "7fed8e77",
   "metadata": {},
   "source": [
    "#### Create Object for User Class "
   ]
  },
  {
   "cell_type": "code",
   "execution_count": 126,
   "id": "33d3132b",
   "metadata": {},
   "outputs": [],
   "source": [
    "user_1 = User(\"Shandy\", 12, \"Basic Plan\")"
   ]
  },
  {
   "cell_type": "code",
   "execution_count": 127,
   "id": "90d86f60",
   "metadata": {},
   "outputs": [
    {
     "data": {
      "text/plain": [
       "('Shandy', 12, 'Basic Plan')"
      ]
     },
     "execution_count": 127,
     "metadata": {},
     "output_type": "execute_result"
    }
   ],
   "source": [
    "# check attribute in Class\n",
    "user_1.username, user_1.duration_plan, user_1.current_plan"
   ]
  },
  {
   "cell_type": "markdown",
   "id": "f13d6b41",
   "metadata": {},
   "source": [
    "### Test Case 1 "
   ]
  },
  {
   "cell_type": "code",
   "execution_count": 128,
   "id": "a9c306de",
   "metadata": {},
   "outputs": [
    {
     "name": "stdout",
     "output_type": "stream",
     "text": [
      "\n",
      "\n",
      "PacFlix Plan List \n",
      "\n",
      "\n",
      "Basic Plan            Standard Plan                Premium Plan                                          Services\n",
      "--------------------  ---------------------------  ----------------------------------------------------  -----------------\n",
      "True                  True                         True                                                  Bisa Stream\n",
      "True                  True                         True                                                  Bisa Download\n",
      "True                  True                         True                                                  Kualitas SD\n",
      "False                 True                         True                                                  Kualitas HD\n",
      "False                 False                        True                                                  Kualitas UHD\n",
      "1                     2                            4                                                     Number of Devices\n",
      "3rd party Movie only  Basic Plan Content + Sports  Basic Plan + Standard Plan + PacFlix Original Series  Jenis Konten\n",
      "120000                160000                       200000                                                Harga\n"
     ]
    }
   ],
   "source": [
    "\n",
    "user_1.check_benefit()"
   ]
  },
  {
   "cell_type": "markdown",
   "id": "33f10811",
   "metadata": {},
   "source": [
    "### Test Case 2"
   ]
  },
  {
   "cell_type": "markdown",
   "id": "07c22b0f",
   "metadata": {},
   "source": [
    "- user want to check plan currently use\n",
    "- output: username, plan currently use, plan duration"
   ]
  },
  {
   "cell_type": "code",
   "execution_count": 129,
   "id": "2d7e9c9e",
   "metadata": {},
   "outputs": [
    {
     "name": "stdout",
     "output_type": "stream",
     "text": [
      "Basic Plan \n",
      "\n",
      "12 Bulan\n",
      "\n",
      "\n",
      "Basic Plan PacFlix Benefit List\n",
      "\n",
      "\n",
      "Basic Plan            Services\n",
      "--------------------  -----------------\n",
      "True                  Bisa Stream\n",
      "True                  Bisa Download\n",
      "True                  Kualitas SD\n",
      "False                 Kualitas HD\n",
      "False                 Kualitas UHD\n",
      "1                     Number of Devices\n",
      "3rd party Movie only  Jenis Konten\n",
      "120000                Harga\n"
     ]
    }
   ],
   "source": [
    "user_1.check_plan()"
   ]
  },
  {
   "cell_type": "markdown",
   "id": "5759df39",
   "metadata": {},
   "source": [
    "### Test Case 3\n"
   ]
  },
  {
   "cell_type": "code",
   "execution_count": 130,
   "id": "e64574e3",
   "metadata": {},
   "outputs": [
    {
     "name": "stdout",
     "output_type": "stream",
     "text": [
      "160000\n"
     ]
    }
   ],
   "source": [
    "user_1.upgrade_plan(new_plan=\"Standard Plan\")"
   ]
  },
  {
   "cell_type": "markdown",
   "id": "8cd4198f",
   "metadata": {},
   "source": [
    "#### Testing with another Object"
   ]
  },
  {
   "cell_type": "code",
   "execution_count": 131,
   "id": "dba9797f",
   "metadata": {},
   "outputs": [],
   "source": [
    "user_2 = User(\"Cahya\", 24, \"Standard Plan\")"
   ]
  },
  {
   "cell_type": "code",
   "execution_count": 132,
   "id": "24fb3c05",
   "metadata": {},
   "outputs": [
    {
     "name": "stdout",
     "output_type": "stream",
     "text": [
      "\n",
      "\n",
      "PacFlix Plan List \n",
      "\n",
      "\n",
      "Basic Plan            Standard Plan                Premium Plan                                          Services\n",
      "--------------------  ---------------------------  ----------------------------------------------------  -----------------\n",
      "True                  True                         True                                                  Bisa Stream\n",
      "True                  True                         True                                                  Bisa Download\n",
      "True                  True                         True                                                  Kualitas SD\n",
      "False                 True                         True                                                  Kualitas HD\n",
      "False                 False                        True                                                  Kualitas UHD\n",
      "1                     2                            4                                                     Number of Devices\n",
      "3rd party Movie only  Basic Plan Content + Sports  Basic Plan + Standard Plan + PacFlix Original Series  Jenis Konten\n",
      "120000                160000                       200000                                                Harga\n"
     ]
    }
   ],
   "source": [
    "user_2.check_benefit()"
   ]
  },
  {
   "cell_type": "code",
   "execution_count": 133,
   "id": "5678f6a4",
   "metadata": {},
   "outputs": [
    {
     "name": "stdout",
     "output_type": "stream",
     "text": [
      "Standard Plan \n",
      "\n",
      "24 Bulan\n",
      "\n",
      "\n",
      "Standard Plan PacFlix Benefit List\n",
      "\n",
      "\n",
      "Standard Plan                Services\n",
      "---------------------------  -----------------\n",
      "True                         Bisa Stream\n",
      "True                         Bisa Download\n",
      "True                         Kualitas SD\n",
      "True                         Kualitas HD\n",
      "False                        Kualitas UHD\n",
      "2                            Number of Devices\n",
      "Basic Plan Content + Sports  Jenis Konten\n",
      "160000                       Harga\n"
     ]
    }
   ],
   "source": [
    "user_2.check_plan()"
   ]
  },
  {
   "cell_type": "code",
   "execution_count": 134,
   "id": "cfa40aab",
   "metadata": {},
   "outputs": [
    {
     "name": "stdout",
     "output_type": "stream",
     "text": [
      "190000.0\n"
     ]
    }
   ],
   "source": [
    "user_2.upgrade_plan(new_plan=\"Premium Plan\")"
   ]
  },
  {
   "cell_type": "markdown",
   "id": "e4936ab9",
   "metadata": {},
   "source": [
    "### Create New User Object"
   ]
  },
  {
   "cell_type": "code",
   "execution_count": 135,
   "id": "ec789dce",
   "metadata": {},
   "outputs": [],
   "source": [
    "class NewUser(User):\n",
    "    def __init__(self, username, duration_plan=None, current_plan=None):\n",
    "        super().__init__(username=username, duration_plan= duration_plan, current_plan=current_plan)\n",
    "    \n",
    "    def data_to_list(self, data):\n",
    "        data = data.values()\n",
    "        list_referal_code = [i[2] for i in data]\n",
    "        self.referal_code_list = list_referal_code\n",
    "        \n",
    "        print(self.referal_code_list)\n",
    "\n",
    "    def pick_plan(self, new_plan, referal_code):\n",
    "\n",
    "        \n",
    "        # Select the correct price from the table\n",
    "        plan_prices = {\"Basic Plan\": self.table[7][0], \n",
    "                    \"Standard Plan\": self.table[7][1], \n",
    "                    \"Premium Plan\": self.table[7][2]}\n",
    "        price = plan_prices.get(new_plan)\n",
    "\n",
    "        if price is None or new_plan not in plan_prices:\n",
    "            print('New plane must be specified and must be valid.')\n",
    "            return\n",
    "        \n",
    "        if referal_code in self.referal_code_list:    \n",
    "            price *= 0.96\n",
    "        \n",
    "        else: \n",
    "            raise Exception(\"Referral Code doesn't exist\") # if the referral is wrong\n",
    "\n",
    "        \n",
    "\n",
    "            \n",
    "        print(price)\n",
    "        \n"
   ]
  },
  {
   "cell_type": "code",
   "execution_count": 136,
   "id": "d1dc8928",
   "metadata": {},
   "outputs": [],
   "source": [
    "faizal = NewUser(\"faizal_icikiwir\")"
   ]
  },
  {
   "cell_type": "code",
   "execution_count": 137,
   "id": "d689a8c6",
   "metadata": {},
   "outputs": [
    {
     "name": "stdout",
     "output_type": "stream",
     "text": [
      "['shandy-2134', 'cahya-abcd', 'ana-2f9g', 'bagus-9f92']\n"
     ]
    }
   ],
   "source": [
    "faizal.data_to_list(data)"
   ]
  },
  {
   "cell_type": "code",
   "execution_count": 138,
   "id": "78a6120b",
   "metadata": {},
   "outputs": [
    {
     "name": "stdout",
     "output_type": "stream",
     "text": [
      "115200.0\n"
     ]
    }
   ],
   "source": [
    "faizal.pick_plan(\"Basic Plan\", \"shandy-2134\")"
   ]
  },
  {
   "cell_type": "code",
   "execution_count": 139,
   "id": "ba5e91fa",
   "metadata": {},
   "outputs": [
    {
     "ename": "Exception",
     "evalue": "Referral Code doesn't exist",
     "output_type": "error",
     "traceback": [
      "\u001b[1;31m---------------------------------------------------------------------------\u001b[0m",
      "\u001b[1;31mException\u001b[0m                                 Traceback (most recent call last)",
      "Cell \u001b[1;32mIn[139], line 1\u001b[0m\n\u001b[1;32m----> 1\u001b[0m \u001b[43mfaizal\u001b[49m\u001b[38;5;241;43m.\u001b[39;49m\u001b[43mpick_plan\u001b[49m\u001b[43m(\u001b[49m\u001b[38;5;124;43m\"\u001b[39;49m\u001b[38;5;124;43mBasic Plan\u001b[39;49m\u001b[38;5;124;43m\"\u001b[39;49m\u001b[43m,\u001b[49m\u001b[43m \u001b[49m\u001b[38;5;124;43m\"\u001b[39;49m\u001b[38;5;124;43mindira-22gs\u001b[39;49m\u001b[38;5;124;43m\"\u001b[39;49m\u001b[43m)\u001b[49m\n",
      "Cell \u001b[1;32mIn[135], line 29\u001b[0m, in \u001b[0;36mNewUser.pick_plan\u001b[1;34m(self, new_plan, referal_code)\u001b[0m\n\u001b[0;32m     26\u001b[0m     price \u001b[38;5;241m*\u001b[39m\u001b[38;5;241m=\u001b[39m \u001b[38;5;241m0.96\u001b[39m\n\u001b[0;32m     28\u001b[0m \u001b[38;5;28;01melse\u001b[39;00m: \n\u001b[1;32m---> 29\u001b[0m     \u001b[38;5;28;01mraise\u001b[39;00m \u001b[38;5;167;01mException\u001b[39;00m(\u001b[38;5;124m\"\u001b[39m\u001b[38;5;124mReferral Code doesn\u001b[39m\u001b[38;5;124m'\u001b[39m\u001b[38;5;124mt exist\u001b[39m\u001b[38;5;124m\"\u001b[39m) \u001b[38;5;66;03m# if the referral is wrong\u001b[39;00m\n\u001b[0;32m     34\u001b[0m \u001b[38;5;28mprint\u001b[39m(price)\n",
      "\u001b[1;31mException\u001b[0m: Referral Code doesn't exist"
     ]
    }
   ],
   "source": [
    "faizal.pick_plan(\"Basic Plan\", \"indira-22gs\")"
   ]
  }
 ],
 "metadata": {
  "kernelspec": {
   "display_name": "Learning",
   "language": "python",
   "name": "python3"
  },
  "language_info": {
   "codemirror_mode": {
    "name": "ipython",
    "version": 3
   },
   "file_extension": ".py",
   "mimetype": "text/x-python",
   "name": "python",
   "nbconvert_exporter": "python",
   "pygments_lexer": "ipython3",
   "version": "3.10.16"
  }
 },
 "nbformat": 4,
 "nbformat_minor": 5
}

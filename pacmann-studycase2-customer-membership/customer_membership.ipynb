{
 "cells": [
  {
   "cell_type": "markdown",
   "id": "19a11d29",
   "metadata": {},
   "source": [
    "# Customer Membership"
   ]
  },
  {
   "cell_type": "markdown",
   "id": "311bf046",
   "metadata": {},
   "source": [
    "#### Membership Table \n",
    "\n",
    "| **Membership** | **Discount** |                     **Another Benefit**                     |\n",
    "|:--------------:|:------------:|:-----------------------------------------------------------:|\n",
    "|    Platinum    |      15%     | Benefit Silver + Gold + Voucher Liburan + Cashback max. 30% |\n",
    "|      Gold      |      10%     | Benefit Silver + Voucher Ojek Online                        |\n",
    "|     Silver     |      8%      | Voucher Makanan                                             |\n",
    "\n",
    "#### Requirements Membership Table\n",
    "\n",
    "| **Membership** | **Monthly Expense (juta)** | **Monthly Income (juta)** |\n",
    "|:--------------:|:--------------------------:|:-------------------------:|\n",
    "|    Platinum    |              8             | 15                        |\n",
    "|      Gold      |              6             | 10                        |\n",
    "|     Silver     |              5             | 7                         |\n",
    "\n",
    "### Features List\n",
    "- [ ] `show_benefit()` --> show all membership benefits (table 1)\n",
    "- [ ] `show_requirements()` --> show all requirements to become a member (table 2)\n",
    "- [ ] `predict_membership(monthly_expense, monthly_income)` --> predict which membership a user will be in based on the input parameters and each membership parameter\n",
    "- [ ] `calculate_price(membership, list_harga_barang)` --> calculate the final price to be paid, and then get a discount according to the membership provisions"
   ]
  },
  {
   "cell_type": "markdown",
   "id": "cba507be",
   "metadata": {},
   "source": [
    "### Import Library"
   ]
  },
  {
   "cell_type": "code",
   "execution_count": 1,
   "id": "f081ba7e",
   "metadata": {},
   "outputs": [
    {
     "name": "stdout",
     "output_type": "stream",
     "text": [
      "Requirement already satisfied: tabulate in c:\\users\\barad\\appdata\\local\\anaconda3\\envs\\learning\\lib\\site-packages (0.9.0)\n"
     ]
    }
   ],
   "source": [
    "!pip install tabulate"
   ]
  },
  {
   "cell_type": "code",
   "execution_count": 7,
   "id": "ee90aea4",
   "metadata": {},
   "outputs": [],
   "source": [
    "# for create table\n",
    "from tabulate import tabulate\n",
    "\n",
    "# square root, for calculate euclidean distance\n",
    "from math import sqrt"
   ]
  },
  {
   "cell_type": "markdown",
   "id": "5edafd1e",
   "metadata": {},
   "source": [
    "### Create Membership Class\n",
    "\n",
    "Data that must be created Username and Membership for existing users:\n",
    "- Sumbul: Platinum\n",
    "- Ana: Gold\n",
    "- Cahya: Platinum"
   ]
  },
  {
   "cell_type": "code",
   "execution_count": 2,
   "id": "0dca008e",
   "metadata": {},
   "outputs": [],
   "source": [
    "class Membership:\n",
    "\n",
    "    def __init__(self):\n",
    "\n",
    "        self.users = {\n",
    "            \"Sumbul\": \"Platinum\",\n",
    "            \"Ana\": \"Gold\",\n",
    "            \"Cahya\": \"Platinum\"\n",
    "        }\n",
    "\n",
    "        self.membership_table = [\n",
    "            [\"Platinum\", \"15%\", \"Benefit Gold + Silver + Cashback max. 30%\"],\n",
    "            [\"Gold\", \"10%\", \"Benefit Silver + Voucher Ojek Online\"],\n",
    "            [\"Silver\", \"8%\", \"Voucher Makanan\"],\n",
    "        ]\n",
    "\n",
    "        self.requirements_membership_table = [\n",
    "            [\"Platinum\", 8, 15],\n",
    "            [\"Gold\", 6, 10],\n",
    "            [\"Silver\", 5, 7]\n",
    "        ]\n",
    "\n",
    "    def show_benefit(self):\n",
    "        print(\"Benefit Membership PacCommerce\\n\\n\")\n",
    "\n",
    "        colalign = (\"center\", \"center\", \"center\")\n",
    "\n",
    "        print(tabulate(self.membership_table, headers=[\"Membership\", \"Discount\", \"Another Benefit\"], tablefmt=\"github\", colalign=colalign))\n",
    "\n",
    "    def show_requirements(self):\n",
    "        print(\"Requirement Membership PacCommerce\\n\\n\")\n",
    "        \n",
    "        colalign = (\"center\", \"center\", \"center\")\n",
    "        print(tabulate(self.requirements_membership_table, headers=[\"Membership\", \"Monthly Expense (juta)\", \"Monthly Income (juta)\"], tablefmt=\"github\", colalign=colalign))\n",
    "\n",
    "    def predict_membership(self, monthly_expense, monthly_income):\n",
    "        r = {}\n",
    "\n",
    "        for i in self.requirements_membership_table:\n",
    "            x = sqrt((monthly_expense - i[1])**2 + (monthly_income - i[2])**2)\n",
    "            r[i[0]] = x\n",
    "        \n",
    "        best = min(r, key=r.get)\n",
    "        return best\n",
    "\n",
    "    def calculate_price(self, membership, list_harga_barang):\n",
    "        \n",
    "        total_belanja = sum(list_harga_barang)\n",
    "        discount = [discount for member, discount, benefit in self.membership_table if member == membership]\n",
    "        discount_value = float(discount[0][:-1])\n",
    "        []\n",
    "        if not discount:\n",
    "            print(\"Membership tidak valid.\")\n",
    "            return\n",
    "\n",
    "        price = total_belanja * (100 - discount_value) / 100\n",
    "\n",
    "        print(f\"Total belanja setelah diskon ({discount_value}%): Rp{int(price):,}\")\n",
    "\n",
    "\n",
    "\n"
   ]
  },
  {
   "cell_type": "markdown",
   "id": "c8d9fa56",
   "metadata": {},
   "source": [
    "#### Mengecek data yang ada"
   ]
  },
  {
   "cell_type": "code",
   "execution_count": 5,
   "id": "4210e8f8",
   "metadata": {},
   "outputs": [
    {
     "data": {
      "text/plain": [
       "{'Sumbul': 'Platinum', 'Ana': 'Gold', 'Cahya': 'Platinum'}"
      ]
     },
     "execution_count": 5,
     "metadata": {},
     "output_type": "execute_result"
    }
   ],
   "source": [
    "membership = Membership()\n",
    "membership.users"
   ]
  },
  {
   "cell_type": "markdown",
   "id": "5b606d93",
   "metadata": {},
   "source": [
    "#### Test Case 1\n",
    "show all membership benefit"
   ]
  },
  {
   "cell_type": "code",
   "execution_count": 8,
   "id": "8d97de39",
   "metadata": {},
   "outputs": [
    {
     "name": "stdout",
     "output_type": "stream",
     "text": [
      "Benefit Membership PacCommerce\n",
      "\n",
      "\n",
      "|  Membership  |  Discount  |              Another Benefit              |\n",
      "|--------------|------------|-------------------------------------------|\n",
      "|   Platinum   |    15%     | Benefit Gold + Silver + Cashback max. 30% |\n",
      "|     Gold     |    10%     |   Benefit Silver + Voucher Ojek Online    |\n",
      "|    Silver    |     8%     |              Voucher Makanan              |\n"
     ]
    }
   ],
   "source": [
    "membership.show_benefit()"
   ]
  },
  {
   "cell_type": "markdown",
   "id": "7c9d9f48",
   "metadata": {},
   "source": [
    "#### Test Case 2\n",
    "show all requirements to become a member"
   ]
  },
  {
   "cell_type": "code",
   "execution_count": 9,
   "id": "8dab331c",
   "metadata": {},
   "outputs": [
    {
     "name": "stdout",
     "output_type": "stream",
     "text": [
      "Requirement Membership PacCommerce\n",
      "\n",
      "\n",
      "|  Membership  |  Monthly Expense (juta)  |  Monthly Income (juta)  |\n",
      "|--------------|--------------------------|-------------------------|\n",
      "|   Platinum   |            8             |           15            |\n",
      "|     Gold     |            6             |           10            |\n",
      "|    Silver    |            5             |            7            |\n"
     ]
    }
   ],
   "source": [
    "membership.show_requirements()"
   ]
  },
  {
   "cell_type": "markdown",
   "id": "5dbae384",
   "metadata": {},
   "source": [
    "#### Test Case 3\n",
    "predict which membership a user will be in based on the input parameters and each membership parameter\n",
    "input parameter `monthly_expense = 9` and `monthly_income = 12`"
   ]
  },
  {
   "cell_type": "code",
   "execution_count": 11,
   "id": "3f496363",
   "metadata": {},
   "outputs": [
    {
     "data": {
      "text/plain": [
       "'Platinum'"
      ]
     },
     "execution_count": 11,
     "metadata": {},
     "output_type": "execute_result"
    }
   ],
   "source": [
    "member = membership.predict_membership(9,12)\n",
    "member"
   ]
  },
  {
   "cell_type": "markdown",
   "id": "5b173734",
   "metadata": {},
   "source": [
    "#### Test Case 4\n",
    "calculate the final price to be paid, and then get a discount according to the membership provisions"
   ]
  },
  {
   "cell_type": "code",
   "execution_count": 12,
   "id": "9ee27b2b",
   "metadata": {},
   "outputs": [
    {
     "name": "stdout",
     "output_type": "stream",
     "text": [
      "Total belanja setelah diskon (15.0%): Rp637,500\n"
     ]
    }
   ],
   "source": [
    "list_belanjaan = [150_000, 200_000, 400_000]\n",
    "membership.calculate_price(membership=member, list_harga_barang=list_belanjaan)"
   ]
  }
 ],
 "metadata": {
  "kernelspec": {
   "display_name": "Learning",
   "language": "python",
   "name": "python3"
  },
  "language_info": {
   "codemirror_mode": {
    "name": "ipython",
    "version": 3
   },
   "file_extension": ".py",
   "mimetype": "text/x-python",
   "name": "python",
   "nbconvert_exporter": "python",
   "pygments_lexer": "ipython3",
   "version": "3.10.16"
  }
 },
 "nbformat": 4,
 "nbformat_minor": 5
}
